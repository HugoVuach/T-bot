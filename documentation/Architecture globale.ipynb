{
 "cells": [
  {
   "cell_type": "markdown",
   "id": "33150b6f",
   "metadata": {},
   "source": [
    "# Architecture global du code"
   ]
  },
  {
   "cell_type": "markdown",
   "id": "23eaa5d0",
   "metadata": {},
   "source": [
    "+----------------------------+\n",
    "|        Data Ingestion      |\n",
    "|----------------------------|\n",
    "| - market_data.py           |\n",
    "| - news_data.py             |\n",
    "+-------------+--------------+\n",
    "              |\n",
    "              v\n",
    "+----------------------------+\n",
    "|   Data Manager             |\n",
    "|----------------------------|\n",
    "| - Fusion prix/news         |\n",
    "| - Buffer temps réel        |\n",
    "+-------------+--------------+\n",
    "              |\n",
    "              v\n",
    "+----------------------------+\n",
    "|       Analysis             |\n",
    "|----------------------------|\n",
    "| - technical_analysis.py    |\n",
    "| - pricing_models.py        |\n",
    "| - ml_models.py             |\n",
    "+-------------+--------------+\n",
    "              |\n",
    "              v\n",
    "+----------------------------+\n",
    "|         LLM Analyzer       |\n",
    "|----------------------------|\n",
    "| - llm_analyzer.py          |\n",
    "+-------------+--------------+\n",
    "              |\n",
    "              v\n",
    "+----------------------------+\n",
    "|       Strategy Manager     |\n",
    "|----------------------------|\n",
    "| - momentum_strategy.py     |\n",
    "| - arbitrage_strategy.py    |\n",
    "| - event_driven_strategy.py |\n",
    "| - nn_trading_strategy.py   |\n",
    "| - directional_change_strategy.py |\n",
    "+-------------+--------------+\n",
    "              |\n",
    "              v\n",
    "+----------------------------+\n",
    "|   Execution & Risk Mgmt    |\n",
    "|----------------------------|\n",
    "| - order_manager.py         |\n",
    "| - risk_manager.py          |\n",
    "| - position_manager.py      |\n",
    "+-------------+--------------+\n",
    "              |\n",
    "              v\n",
    "+----------------------------+\n",
    "|     Monitoring & Logs      |\n",
    "|----------------------------|\n",
    "| - metrics_collector.py     |\n",
    "| - alerts.py                |\n",
    "| - dashboard.py             |\n",
    "+----------------------------+\n"
   ]
  }
 ],
 "metadata": {
  "language_info": {
   "name": "python"
  }
 },
 "nbformat": 4,
 "nbformat_minor": 5
}
